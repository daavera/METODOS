{
 "cells": [
  {
   "cell_type": "code",
   "execution_count": 2,
   "metadata": {},
   "outputs": [],
   "source": [
    "import matplotlib.pyplot as plt\n",
    "import numpy as np\n",
    "from mpl_toolkits.mplot3d import Axes3D\n",
    "from matplotlib import cm\n",
    "import matplotlib.animation as animation"
   ]
  },
  {
   "cell_type": "code",
   "execution_count": 3,
   "metadata": {},
   "outputs": [],
   "source": [
    "n_points = 60\n",
    "l = 30\n",
    "c = 1\n",
    "x = np.linspace(0,l,n_points)\n",
    "dx = x[1]-x[0]\n",
    "y = np.linspace(0,l,n_points)\n",
    "dy = y[1]-y[0]\n",
    "alpha = 0.5\n",
    "dt = alpha*dx**2 /c\n",
    "t = np.arange(0,60,dt)\n",
    "X, Y = np.meshgrid(x,y)\n",
    "evolucion= []"
   ]
  },
  {
   "cell_type": "code",
   "execution_count": 4,
   "metadata": {},
   "outputs": [],
   "source": [
    "def gaussian_3D (X,Y):\n",
    "    A=1.5\n",
    "    sigma = 1\n",
    "    x0 = 15\n",
    "    y0 = 10\n",
    "    return A*np.exp(-((((X-x0)**2)/(2*sigma*2))+(((Y-x0)**2)/(2*sigma*2))))"
   ]
  },
  {
   "cell_type": "code",
   "execution_count": 5,
   "metadata": {},
   "outputs": [],
   "source": [
    "phi = gaussian_3D(X,Y)\n",
    "#phi = np.zeros((n_points,n_points))\n",
    "#phi[int(np.size(x)/2),int(np.size(y)/3)] =1.5\n",
    "bar_x = int(np.shape(phi)[1]/2)\n",
    "bar_y = int(2*np.shape(phi)[1]/3)\n",
    "for i in range(np.shape(phi)[0]):\n",
    "    for j in range(np.shape(phi)[1]):\n",
    "        if (i==0 or i==np.shape(phi)[0]-1 or j==0 or j==np.shape(phi)[1]-1):\n",
    "            phi[i,j] = 0\n",
    "phi[bar_x-10:bar_x+10,bar_y] = 0\n",
    "evolucion.append(phi)"
   ]
  },
  {
   "cell_type": "code",
   "execution_count": 6,
   "metadata": {},
   "outputs": [],
   "source": [
    "phi_1 = np.zeros((n_points,n_points))\n",
    "for i in range(1,np.shape(phi)[0]-1):\n",
    "    for j in range(1,np.shape(phi)[1]-1):\n",
    "        if(j == bar_y and i<bar_x-10 and i>bar_x+10):\n",
    "            continue\n",
    "        phi_1[i,j] = phi[i,j] + alpha*(phi[i+1,j]-2*phi[i,j]+phi[i-1,j])+alpha*(phi[i,j+1]-2*phi[i,j]+phi[i,j-1])\n",
    "evolucion.append(phi_1)"
   ]
  },
  {
   "cell_type": "code",
   "execution_count": 7,
   "metadata": {},
   "outputs": [
    {
     "ename": "NameError",
     "evalue": "name 'estados' is not defined",
     "output_type": "error",
     "traceback": [
      "\u001b[0;31m---------------------------------------------------------------------------\u001b[0m",
      "\u001b[0;31mNameError\u001b[0m                                 Traceback (most recent call last)",
      "\u001b[0;32m<ipython-input-7-c79c440b5b68>\u001b[0m in \u001b[0;36m<module>\u001b[0;34m()\u001b[0m\n\u001b[1;32m      1\u001b[0m \u001b[0;32mfor\u001b[0m \u001b[0mk\u001b[0m \u001b[0;32min\u001b[0m \u001b[0mrange\u001b[0m\u001b[0;34m(\u001b[0m\u001b[0;36m2\u001b[0m\u001b[0;34m,\u001b[0m\u001b[0mnp\u001b[0m\u001b[0;34m.\u001b[0m\u001b[0msize\u001b[0m\u001b[0;34m(\u001b[0m\u001b[0mt\u001b[0m\u001b[0;34m)\u001b[0m\u001b[0;34m)\u001b[0m\u001b[0;34m:\u001b[0m\u001b[0;34m\u001b[0m\u001b[0m\n\u001b[0;32m----> 2\u001b[0;31m     \u001b[0mphi_2old\u001b[0m \u001b[0;34m=\u001b[0m \u001b[0mestados\u001b[0m\u001b[0;34m[\u001b[0m\u001b[0mk\u001b[0m\u001b[0;34m-\u001b[0m\u001b[0;36m2\u001b[0m\u001b[0;34m]\u001b[0m\u001b[0;34m\u001b[0m\u001b[0m\n\u001b[0m\u001b[1;32m      3\u001b[0m     \u001b[0mphi_old\u001b[0m \u001b[0;34m=\u001b[0m \u001b[0mestados\u001b[0m\u001b[0;34m[\u001b[0m\u001b[0mk\u001b[0m\u001b[0;34m-\u001b[0m\u001b[0;36m1\u001b[0m\u001b[0;34m]\u001b[0m\u001b[0;34m\u001b[0m\u001b[0m\n\u001b[1;32m      4\u001b[0m     \u001b[0mphi_new\u001b[0m \u001b[0;34m=\u001b[0m \u001b[0mnp\u001b[0m\u001b[0;34m.\u001b[0m\u001b[0mzeros\u001b[0m\u001b[0;34m(\u001b[0m\u001b[0;34m(\u001b[0m\u001b[0mn_points\u001b[0m\u001b[0;34m,\u001b[0m\u001b[0mn_points\u001b[0m\u001b[0;34m)\u001b[0m\u001b[0;34m)\u001b[0m\u001b[0;34m\u001b[0m\u001b[0m\n\u001b[1;32m      5\u001b[0m     \u001b[0;32mfor\u001b[0m \u001b[0mi\u001b[0m \u001b[0;32min\u001b[0m \u001b[0mrange\u001b[0m\u001b[0;34m(\u001b[0m\u001b[0;36m1\u001b[0m\u001b[0;34m,\u001b[0m\u001b[0mnp\u001b[0m\u001b[0;34m.\u001b[0m\u001b[0mshape\u001b[0m\u001b[0;34m(\u001b[0m\u001b[0mphi_old\u001b[0m\u001b[0;34m)\u001b[0m\u001b[0;34m[\u001b[0m\u001b[0;36m0\u001b[0m\u001b[0;34m]\u001b[0m\u001b[0;34m-\u001b[0m\u001b[0;36m1\u001b[0m\u001b[0;34m)\u001b[0m\u001b[0;34m:\u001b[0m\u001b[0;34m\u001b[0m\u001b[0m\n",
      "\u001b[0;31mNameError\u001b[0m: name 'estados' is not defined"
     ]
    }
   ],
   "source": [
    "for k in range(2,np.size(t)):\n",
    "    phi_2old = evolucion[k-2]\n",
    "    phi_old = evolucion[k-1]\n",
    "    phi_new = np.zeros((n_points,n_points))\n",
    "    for i in range(1,np.shape(phi_old)[0]-1):\n",
    "        for j in range(1,np.shape(phi_old)[1]-1):\n",
    "            if(j == bar_y and i<bar_x-10 and i>bar_x+10):\n",
    "                continue\n",
    "            phi_new[i,j] = (2*phi_old[i,j] - phi_2old[i,j]) + alpha*(phi_old[i+1,j]-2*phi_old[i,j]+phi_old[i-1,j])+alpha*(phi_old[i,j+1]-2*phi_old[i,j]+phi_old[i,j-1])\n",
    "    evolucion.append(phi_new)"
   ]
  },
  {
   "cell_type": "code",
   "execution_count": 255,
   "metadata": {},
   "outputs": [],
   "source": [
    "fig = plt.figure()\n",
    "ax = fig.add_subplot(111, projection='3d')\n",
    "ax.plot_surface(X, Y, evolucion[40],rstride=1,cstride=1)\n",
    "ax.set_zlim(-2,2)\n",
    "plt.show()"
   ]
  },
  {
   "cell_type": "code",
   "execution_count": 191,
   "metadata": {},
   "outputs": [
    {
     "ename": "AttributeError",
     "evalue": "'module' object has no attribute 'save'",
     "output_type": "error",
     "traceback": [
      "\u001b[0;31m---------------------------------------------------------------------------\u001b[0m\n\u001b[0;31mAttributeError\u001b[0m                            Traceback (most recent call last)",
      "\u001b[0;32m<ipython-input-191-183e9f52fee4>\u001b[0m in \u001b[0;36m<module>\u001b[0;34m()\u001b[0m\n\u001b[1;32m      5\u001b[0m     \u001b[0;32mreturn\u001b[0m \u001b[0mplt_temp\u001b[0m\u001b[0;34m,\u001b[0m\u001b[0;34m\u001b[0m\u001b[0m\n\u001b[1;32m      6\u001b[0m \u001b[0ma\u001b[0m \u001b[0;34m=\u001b[0m \u001b[0manimation\u001b[0m\u001b[0;34m.\u001b[0m\u001b[0mFuncAnimation\u001b[0m\u001b[0;34m(\u001b[0m\u001b[0mfig\u001b[0m\u001b[0;34m,\u001b[0m\u001b[0msequence\u001b[0m\u001b[0;34m,\u001b[0m\u001b[0mnp\u001b[0m\u001b[0;34m.\u001b[0m\u001b[0msize\u001b[0m\u001b[0;34m(\u001b[0m\u001b[0mt\u001b[0m\u001b[0;34m)\u001b[0m\u001b[0;34m,\u001b[0m \u001b[0minterval\u001b[0m \u001b[0;34m=\u001b[0m \u001b[0;36m25\u001b[0m\u001b[0;34m,\u001b[0m \u001b[0mblit\u001b[0m\u001b[0;34m=\u001b[0m\u001b[0mFalse\u001b[0m\u001b[0;34m)\u001b[0m\u001b[0;34m\u001b[0m\u001b[0m\n\u001b[0;32m----> 7\u001b[0;31m \u001b[0mplt\u001b[0m\u001b[0;34m.\u001b[0m\u001b[0msave\u001b[0m\u001b[0;34m(\u001b[0m\u001b[0;34m\"Ondaf1.mp4\"\u001b[0m\u001b[0;34m,\u001b[0m \u001b[0mfps\u001b[0m\u001b[0;34m=\u001b[0m\u001b[0;36m15\u001b[0m\u001b[0;34m)\u001b[0m\u001b[0;34m\u001b[0m\u001b[0m\n\u001b[0m",
      "\u001b[0;31mAttributeError\u001b[0m: 'module' object has no attribute 'save'"
     ]
    }
   ],
   "source": [
    "def sequence(i):\n",
    "    ax.clear()\n",
    "    est_temp = estados[i]\n",
    "    plt_temp = ax.plot_surface(X,Y,est_temp, rstride=1,cstride=1)\n",
    "    return plt_temp,\n",
    "a = animation.FuncAnimation(fig,sequence,np.size(t), interval = 25, blit=False)\n",
    "plt.save(\"Ondaf1.mp4\", fps=15)"
   ]
  },
  {
   "cell_type": "code",
   "execution_count": null,
   "metadata": {},
   "outputs": [],
   "source": []
  }
 ],
 "metadata": {
  "kernelspec": {
   "display_name": "Python 3",
   "language": "python",
   "name": "python3"
  },
  "language_info": {
   "codemirror_mode": {
    "name": "ipython",
    "version": 3
   },
   "file_extension": ".py",
   "mimetype": "text/x-python",
   "name": "python",
   "nbconvert_exporter": "python",
   "pygments_lexer": "ipython3",
   "version": "3.6.1"
  }
 },
 "nbformat": 4,
 "nbformat_minor": 1
}
