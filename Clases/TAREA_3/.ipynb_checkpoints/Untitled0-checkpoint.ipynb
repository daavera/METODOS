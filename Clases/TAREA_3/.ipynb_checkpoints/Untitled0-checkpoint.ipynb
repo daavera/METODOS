{
 "metadata": {
  "name": ""
 },
 "nbformat": 3,
 "nbformat_minor": 0,
 "worksheets": [
  {
   "cells": [
    {
     "cell_type": "code",
     "collapsed": false,
     "input": [
      "import matplotlib.pyplot as plt\n",
      "import numpy as np\n",
      "from mpl_toolkits.mplot3d import Axes3D\n",
      "from matplotlib import cm\n",
      "import matplotlib.animation as animation"
     ],
     "language": "python",
     "metadata": {},
     "outputs": [],
     "prompt_number": 87
    },
    {
     "cell_type": "code",
     "collapsed": false,
     "input": [
      "n_points = 60\n",
      "l = 30\n",
      "c = 1\n",
      "x = np.linspace(0,l,n_points)\n",
      "dx = x[1]-x[0]\n",
      "y = np.linspace(0,l,n_points)\n",
      "dy = y[1]-y[0]\n",
      "alpha = 0.5\n",
      "dt = alpha*dx**2 /c\n",
      "t = np.arange(0,60,dt)\n",
      "X, Y = np.meshgrid(x,y)\n",
      "estados= []"
     ],
     "language": "python",
     "metadata": {},
     "outputs": [],
     "prompt_number": 146
    },
    {
     "cell_type": "code",
     "collapsed": false,
     "input": [
      "def gaussian_3D (X,Y):\n",
      "    A=0.5\n",
      "    sigma = 1\n",
      "    x0 = l/2\n",
      "    y0 = l/3\n",
      "    return A*np.exp(-(((X-x0)**2)/(2*sigma*2))+(((Y-y0)**2)/(2*sigma*2)))"
     ],
     "language": "python",
     "metadata": {},
     "outputs": [],
     "prompt_number": 147
    },
    {
     "cell_type": "code",
     "collapsed": false,
     "input": [
      "#phi = gaussian_3D(X,Y)\n",
      "phi = np.zeros((n_points,n_points))\n",
      "phi[int(np.size(x)/2),int(np.size(y)/3)] =1.5\n",
      "for i in range(np.shape(phi)[0]):\n",
      "    for j in range(np.shape(phi)[1]):\n",
      "        if (i==0 or i==np.shape(phi)[0]-1 or j==0 or j==np.shape(phi)[1]-1):\n",
      "            phi[i,j] = 0\n",
      "phi[:,int(2*np.shape(phi)[1]/3)] = 0\n",
      "estados.append(phi)"
     ],
     "language": "python",
     "metadata": {},
     "outputs": [],
     "prompt_number": 148
    },
    {
     "cell_type": "code",
     "collapsed": false,
     "input": [
      "phi_1 = np.zeros((n_points,n_points))\n",
      "for i in range(1,np.shape(phi)[0]-1):\n",
      "    for j in range(1,np.shape(phi)[1]-1):\n",
      "        if(j==int(2*np.shape(phi)[1]/3)):\n",
      "            continue\n",
      "        phi_1[i,j] = phi[i,j] + alpha*(phi[i+1,j]-2*phi[i,j]+phi[i-1,j])+alpha*(phi[i,j+1]-2*phi[i,j]+phi[i,j-1])\n",
      "estados.append(phi_1)"
     ],
     "language": "python",
     "metadata": {},
     "outputs": [],
     "prompt_number": 149
    },
    {
     "cell_type": "code",
     "collapsed": false,
     "input": [
      "for k in range(2,np.size(t)):\n",
      "    phi_2old = estados[k-2]\n",
      "    phi_old = estados[k-1]\n",
      "    phi_new = np.zeros((n_points,n_points))\n",
      "    for i in range(1,np.shape(phi_old)[0]-1):\n",
      "        for j in range(1,np.shape(phi_old)[1]-1):\n",
      "            if(j==int(2*np.shape(phi_1)[1]/3)):\n",
      "                continue\n",
      "            phi_new[i,j] = (2*phi_old[i,j] - phi_2old[i,j]) + alpha*(phi_old[i+1,j]-2*phi_old[i,j]+phi_old[i-1,j])+alpha*(phi_old[i,j+1]-2*phi_old[i,j]+phi_old[i,j-1])\n",
      "    estados.append(phi_new)"
     ],
     "language": "python",
     "metadata": {},
     "outputs": [],
     "prompt_number": 150
    },
    {
     "cell_type": "code",
     "collapsed": false,
     "input": [
      "fig = plt.figure()\n",
      "ax = fig.add_subplot(111, projection='3d')\n",
      "ax.plot_surface(X, Y, phi)\n",
      "ax.set_zlim(-2,2)\n",
      "def sequence(i):\n",
      "    ax.clear()\n",
      "    est_temp = estados[i]\n",
      "    plt_temp = ax.plot_surface(X,Y,est_temp)\n",
      "    ax.set_zlim(-2,2)\n",
      "    return plt_temp,\n",
      "a = animation.FuncAnimation(fig,sequence,np.size(t), interval = 25, blit=False)"
     ],
     "language": "python",
     "metadata": {},
     "outputs": [],
     "prompt_number": 151
    },
    {
     "cell_type": "code",
     "collapsed": false,
     "input": [
      "\n"
     ],
     "language": "python",
     "metadata": {},
     "outputs": [],
     "prompt_number": 152
    },
    {
     "cell_type": "code",
     "collapsed": false,
     "input": [],
     "language": "python",
     "metadata": {},
     "outputs": []
    }
   ],
   "metadata": {}
  }
 ]
}