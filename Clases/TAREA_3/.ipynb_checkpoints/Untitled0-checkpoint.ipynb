{
 "metadata": {
  "name": ""
 },
 "nbformat": 3,
 "nbformat_minor": 0,
 "worksheets": [
  {
   "cells": [
    {
     "cell_type": "code",
     "collapsed": false,
     "input": [
      "import matplotlib.pyplot as plt\n",
      "import numpy as np\n",
      "from mpl_toolkits.mplot3d import Axes3D\n",
      "from matplotlib import cm\n",
      "import matplotlib.animation as animation"
     ],
     "language": "python",
     "metadata": {},
     "outputs": [],
     "prompt_number": 245
    },
    {
     "cell_type": "code",
     "collapsed": false,
     "input": [
      "n_points = 60\n",
      "l = 30\n",
      "c = 1\n",
      "x = np.linspace(0,l,n_points)\n",
      "dx = x[1]-x[0]\n",
      "y = np.linspace(0,l,n_points)\n",
      "dy = y[1]-y[0]\n",
      "alpha = 0.5\n",
      "dt = alpha*dx**2 /c\n",
      "t = np.arange(0,60,dt)\n",
      "X, Y = np.meshgrid(x,y)\n",
      "evolucion= []"
     ],
     "language": "python",
     "metadata": {},
     "outputs": [],
     "prompt_number": 246
    },
    {
     "cell_type": "code",
     "collapsed": false,
     "input": [
      "def gaussian_3D (X,Y):\n",
      "    A=1.5\n",
      "    sigma = 1\n",
      "    x0 = 15\n",
      "    y0 = 10\n",
      "    return A*np.exp(-((((X-x0)**2)/(2*sigma*2))+(((Y-x0)**2)/(2*sigma*2))))"
     ],
     "language": "python",
     "metadata": {},
     "outputs": [],
     "prompt_number": 247
    },
    {
     "cell_type": "code",
     "collapsed": false,
     "input": [
      "phi = gaussian_3D(X,Y)\n",
      "#phi = np.zeros((n_points,n_points))\n",
      "#phi[int(np.size(x)/2),int(np.size(y)/3)] =1.5\n",
      "bar_x = int(np.shape(phi)[1]/2)\n",
      "bar_y = int(2*np.shape(phi)[1]/3)\n",
      "for i in range(np.shape(phi)[0]):\n",
      "    for j in range(np.shape(phi)[1]):\n",
      "        if (i==0 or i==np.shape(phi)[0]-1 or j==0 or j==np.shape(phi)[1]-1):\n",
      "            phi[i,j] = 0\n",
      "phi[bar_x-10:bar_x+10,bar_y] = 0\n",
      "evolucion.append(phi)"
     ],
     "language": "python",
     "metadata": {},
     "outputs": [],
     "prompt_number": 248
    },
    {
     "cell_type": "code",
     "collapsed": false,
     "input": [
      "phi_1 = np.zeros((n_points,n_points))\n",
      "for i in range(1,np.shape(phi)[0]-1):\n",
      "    for j in range(1,np.shape(phi)[1]-1):\n",
      "        if(j == bar_y and i<bar_x-10 and i>bar_x+10):\n",
      "            continue\n",
      "        phi_1[i,j] = phi[i,j] + alpha*(phi[i+1,j]-2*phi[i,j]+phi[i-1,j])+alpha*(phi[i,j+1]-2*phi[i,j]+phi[i,j-1])\n",
      "evolucion.append(phi_1)"
     ],
     "language": "python",
     "metadata": {},
     "outputs": [],
     "prompt_number": 249
    },
    {
     "cell_type": "code",
     "collapsed": false,
     "input": [
      "for k in range(2,np.size(t)):\n",
      "    phi_2old = estados[k-2]\n",
      "    phi_old = estados[k-1]\n",
      "    phi_new = np.zeros((n_points,n_points))\n",
      "    for i in range(1,np.shape(phi_old)[0]-1):\n",
      "        for j in range(1,np.shape(phi_old)[1]-1):\n",
      "            if(j == bar_y and i<bar_x-10 and i>bar_x+10):\n",
      "                continue\n",
      "            phi_new[i,j] = (2*phi_old[i,j] - phi_2old[i,j]) + alpha*(phi_old[i+1,j]-2*phi_old[i,j]+phi_old[i-1,j])+alpha*(phi_old[i,j+1]-2*phi_old[i,j]+phi_old[i,j-1])\n",
      "    evolucion.append(phi_new)"
     ],
     "language": "python",
     "metadata": {},
     "outputs": [],
     "prompt_number": 250
    },
    {
     "cell_type": "code",
     "collapsed": false,
     "input": [
      "fig = plt.figure()\n",
      "ax = fig.add_subplot(111, projection='3d')\n",
      "ax.plot_surface(X, Y, evolucion[40],rstride=1,cstride=1)\n",
      "ax.set_zlim(-2,2)\n",
      "plt.show()"
     ],
     "language": "python",
     "metadata": {},
     "outputs": [],
     "prompt_number": 255
    },
    {
     "cell_type": "code",
     "collapsed": false,
     "input": [
      "def sequence(i):\n",
      "    ax.clear()\n",
      "    est_temp = estados[i]\n",
      "    plt_temp = ax.plot_surface(X,Y,est_temp, rstride=1,cstride=1)\n",
      "    return plt_temp,\n",
      "a = animation.FuncAnimation(fig,sequence,np.size(t), interval = 25, blit=False)\n",
      "plt.save(\"Ondaf1.mp4\", fps=15)"
     ],
     "language": "python",
     "metadata": {},
     "outputs": [
      {
       "ename": "AttributeError",
       "evalue": "'module' object has no attribute 'save'",
       "output_type": "pyerr",
       "traceback": [
        "\u001b[0;31m---------------------------------------------------------------------------\u001b[0m\n\u001b[0;31mAttributeError\u001b[0m                            Traceback (most recent call last)",
        "\u001b[0;32m<ipython-input-191-183e9f52fee4>\u001b[0m in \u001b[0;36m<module>\u001b[0;34m()\u001b[0m\n\u001b[1;32m      5\u001b[0m     \u001b[0;32mreturn\u001b[0m \u001b[0mplt_temp\u001b[0m\u001b[0;34m,\u001b[0m\u001b[0;34m\u001b[0m\u001b[0m\n\u001b[1;32m      6\u001b[0m \u001b[0ma\u001b[0m \u001b[0;34m=\u001b[0m \u001b[0manimation\u001b[0m\u001b[0;34m.\u001b[0m\u001b[0mFuncAnimation\u001b[0m\u001b[0;34m(\u001b[0m\u001b[0mfig\u001b[0m\u001b[0;34m,\u001b[0m\u001b[0msequence\u001b[0m\u001b[0;34m,\u001b[0m\u001b[0mnp\u001b[0m\u001b[0;34m.\u001b[0m\u001b[0msize\u001b[0m\u001b[0;34m(\u001b[0m\u001b[0mt\u001b[0m\u001b[0;34m)\u001b[0m\u001b[0;34m,\u001b[0m \u001b[0minterval\u001b[0m \u001b[0;34m=\u001b[0m \u001b[0;36m25\u001b[0m\u001b[0;34m,\u001b[0m \u001b[0mblit\u001b[0m\u001b[0;34m=\u001b[0m\u001b[0mFalse\u001b[0m\u001b[0;34m)\u001b[0m\u001b[0;34m\u001b[0m\u001b[0m\n\u001b[0;32m----> 7\u001b[0;31m \u001b[0mplt\u001b[0m\u001b[0;34m.\u001b[0m\u001b[0msave\u001b[0m\u001b[0;34m(\u001b[0m\u001b[0;34m\"Ondaf1.mp4\"\u001b[0m\u001b[0;34m,\u001b[0m \u001b[0mfps\u001b[0m\u001b[0;34m=\u001b[0m\u001b[0;36m15\u001b[0m\u001b[0;34m)\u001b[0m\u001b[0;34m\u001b[0m\u001b[0m\n\u001b[0m",
        "\u001b[0;31mAttributeError\u001b[0m: 'module' object has no attribute 'save'"
       ]
      }
     ],
     "prompt_number": 191
    },
    {
     "cell_type": "code",
     "collapsed": false,
     "input": [],
     "language": "python",
     "metadata": {},
     "outputs": []
    }
   ],
   "metadata": {}
  }
 ]
}