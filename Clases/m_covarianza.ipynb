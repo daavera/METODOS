{
 "cells": [
  {
   "cell_type": "code",
   "execution_count": 1,
   "metadata": {
    "collapsed": true
   },
   "outputs": [],
   "source": [
    "import numpy as np\n",
    "import pandas as pd"
   ]
  },
  {
   "cell_type": "code",
   "execution_count": 18,
   "metadata": {},
   "outputs": [],
   "source": [
    "datos = pd.read_csv('room-temperature.csv', sep=',')"
   ]
  },
  {
   "cell_type": "code",
   "execution_count": 128,
   "metadata": {},
   "outputs": [
    {
     "name": "stderr",
     "output_type": "stream",
     "text": [
      "/Users/Prueba/anaconda3/lib/python3.6/site-packages/ipykernel_launcher.py:1: DeprecationWarning: \n",
      ".ix is deprecated. Please use\n",
      ".loc for label based indexing or\n",
      ".iloc for positional indexing\n",
      "\n",
      "See the documentation here:\n",
      "http://pandas.pydata.org/pandas-docs/stable/indexing.html#deprecate_ix\n",
      "  \"\"\"Entry point for launching an IPython kernel.\n"
     ]
    }
   ],
   "source": [
    "datos = datos.ix[:,'FrontLeft':'BackRight']\n",
    "mean = datos.apply(np.mean)\n",
    "#puse alreves el numero de filas y columnas\n",
    "n_col = np.shape(datos)[0]\n",
    "n_row = np.shape(datos)[1]\n",
    "combinaciones = np.array(np.meshgrid(range(n_row),range(n_row))).T.reshape(-1,2)"
   ]
  },
  {
   "cell_type": "code",
   "execution_count": 127,
   "metadata": {},
   "outputs": [
    {
     "data": {
      "text/plain": [
       "array([[0, 0, 0, 1],\n",
       "       [0, 2, 0, 3],\n",
       "       [1, 0, 1, 1],\n",
       "       [1, 2, 1, 3],\n",
       "       [2, 0, 2, 1],\n",
       "       [2, 2, 2, 3],\n",
       "       [3, 0, 3, 1],\n",
       "       [3, 2, 3, 3]])"
      ]
     },
     "execution_count": 127,
     "metadata": {},
     "output_type": "execute_result"
    }
   ],
   "source": [
    "combinaciones"
   ]
  },
  {
   "cell_type": "code",
   "execution_count": 136,
   "metadata": {
    "collapsed": true
   },
   "outputs": [],
   "source": [
    "def matriz_cov(datos):\n",
    "    matriz_cov = np.empty([n_row,n_row])\n",
    "    for i , j in combinaciones:\n",
    "        dat_i = datos.ix[:,i].values\n",
    "        dat_j = datos.ix[:,j].values\n",
    "        n_var = (dat_i - mean[i]) * (dat_j - mean[j])\n",
    "        sum_var = np.sum(n_var)\n",
    "        matriz_cov[i,j] = sum_var/(n_col-1)\n",
    "    return matriz_cov\n",
    "        \n"
   ]
  },
  {
   "cell_type": "code",
   "execution_count": 137,
   "metadata": {},
   "outputs": [
    {
     "data": {
      "text/plain": [
       "array([[ 2.70448669,  2.4044663 ,  1.45784091,  1.64101544],\n",
       "       [ 2.4044663 ,  2.94163122,  1.60030594,  1.80590181],\n",
       "       [ 1.45784091,  1.60030594,  2.52082168,  2.31242133],\n",
       "       [ 1.64101544,  1.80590181,  2.31242133,  2.71436626]])"
      ]
     },
     "execution_count": 137,
     "metadata": {},
     "output_type": "execute_result"
    }
   ],
   "source": [
    "matriz_cov(datos)"
   ]
  },
  {
   "cell_type": "code",
   "execution_count": null,
   "metadata": {
    "collapsed": true
   },
   "outputs": [],
   "source": []
  }
 ],
 "metadata": {
  "kernelspec": {
   "display_name": "Python 3",
   "language": "python",
   "name": "python3"
  },
  "language_info": {
   "codemirror_mode": {
    "name": "ipython",
    "version": 3
   },
   "file_extension": ".py",
   "mimetype": "text/x-python",
   "name": "python",
   "nbconvert_exporter": "python",
   "pygments_lexer": "ipython3",
   "version": "3.6.1"
  }
 },
 "nbformat": 4,
 "nbformat_minor": 2
}
